{
 "cells": [
  {
   "cell_type": "markdown",
   "metadata": {},
   "source": [
    "# Assignment 1: ODrive setup and initial kinematics exploration\n",
    "\n",
    "In homework 1 we will learn the basic functionality of the ODrive motor controller and the kinematics of the 5-bar leg. There are 5 problems below. You will turn this assignment in by uploading it to your own github repository for this assignment and then sending a link to ngravish@eng.ucsd.edu with the subject MAE_207_HW1. The assignment is to be completed in pairs, one per team.\n",
    "\n",
    "If you would like, you directly ```fork``` this repository into your github account, this is found in the upper right hand corner. You can then download the repository to your computer using the ```clone``` button on the right side. Once you are done with the assignment, commit the changes back to the github online repository. \n",
    "\n",
    "Alternatively you can just download the .ipynb file, edit it as you solve the problems, and then in the end upload to a github repo.\n",
    "\n",
    "Team #: 3\n",
    "\n",
    "Names: Rahul Shirpurkar , Qichao Zheng\n",
    "\n"
   ]
  },
  {
   "cell_type": "markdown",
   "metadata": {},
   "source": [
    "## Problem 1: Familiarization with ODrive firmware\n",
    "\n",
    "__1.1__ You should follow the instructions to flash the motor controller firmware found [here](https://github.com/madcowswe/ODrive).\n",
    "\n",
    "__1.2__ In the ```Odrive/Firmware/MotorControl``` folder are the code files that control the motor. The most important file is ```low_level.c```. Find this file and familiarize yourself with it. \n",
    "\n",
    "__1.3__ In ```low_level.c``` the main function for motor control is ```control_motor_loop(Motor_t* motor)```. Find this function and copy and paste blocks of it into the cell below.  Annotate the function step-by-step in simple language the operations it performs. (*I have started this annotation*). Use the three backticks \\`\\`\\` and the letter c for the c language to highlight each code block.\n",
    "\n",
    "\n",
    "\n",
    "\n"
   ]
  },
  {
   "cell_type": "markdown",
   "metadata": {},
   "source": [
    "```c\n",
    "void control_motor_loop(Motor_t* motor) {\n",
    "    while (*(motor->axis_legacy.enable_control)) {\n",
    "        if (osSignalWait(M_SIGNAL_PH_CURRENT_MEAS, PH_CURRENT_MEAS_TIMEOUT).status != osEventSignal) {\n",
    "            motor->error = ERROR_FOC_MEASUREMENT_TIMEOUT;\n",
    "            break;\n",
    "        }\n",
    "\n",
    "        if (!do_checks(motor))\n",
    "            break;\n",
    "        if (!loop_updates(motor))\n",
    "            break;\n",
    "```\n",
    "While motor axis is set to enable_control flag/setting do all the following,<br><br>\n",
    "check if the status of osSignalWait function is not the expected value (= returned by osEventSignal), set motor error flag and break execution <br>\n",
    "if motor check and loop update functions return errors, break the program execution\n",
    "<br>\n",
    "<br>\n",
    "\n",
    "\n",
    "        \n",
    "```c    \n",
    "        // Position control\n",
    "        float vel_des = motor->vel_setpoint;\n",
    "        if (motor->control_mode >= CTRL_MODE_POSITION_CONTROL) {\n",
    "            if (motor->rotor_mode == ROTOR_MODE_SENSORLESS) {\n",
    "                motor->error = ERROR_POS_CTRL_DURING_SENSORLESS;\n",
    "                break;\n",
    "            }\n",
    "            float pos_err = motor->pos_setpoint - motor->encoder.pll_pos;\n",
    "            vel_des += motor->pos_gain * pos_err;\n",
    "        }\n",
    "```\n",
    "For position control of the motor, a variable called \"vel_des\" (design velocity?) is initiated with the value returned by/saved under \"vel_setpoint\" in the configuration<br>\n",
    "check if the motor control mode is \"position control\" and if the rotor mode is \"sensorless\", set error flag with appropriate value and break execution of program<br>\n",
    "else set position error as the diffference between the ideal motor position returned by reading \"pos_setpoint\" and the current position returned by the encoder<br>\n",
    "update \"vel_des\" using formula\n",
    "<br><br>\n",
    "\n",
    "```c\n",
    "        // Velocity limiting\n",
    "        float vel_lim = motor->vel_limit;\n",
    "        if (vel_des > vel_lim) vel_des = vel_lim;\n",
    "        if (vel_des < -vel_lim) vel_des = -vel_lim;\n",
    "```\n",
    "For the velocity limited mode, set \"vel_lim\" equal to value returned by reading the limit saved under \"vel_limit\" in the configuration<br>\n",
    "if design velocity is greater than the limit, lower the design velocity to limit value<br>\n",
    "if it is less than the negative value of the limit, raise it to the negative value of the limit<br><br>\n",
    "\n",
    "```c\n",
    "        // Velocity control\n",
    "        float Iq = motor->current_setpoint;\n",
    "\n",
    "        // Anti-cogging is enabled after calibration\n",
    "        // We get the current position and apply a current feed-forward\n",
    "        // ensuring that we handle negative encoder positions properly (-1 == motor->encoder.encoder_cpr - 1)\n",
    "        if (motor->anticogging.use_anticogging) {\n",
    "            Iq += motor->anticogging.cogging_map[mod(motor->encoder.pll_pos, motor->encoder.encoder_cpr)];\n",
    "        }\n",
    "\n",
    "        float v_err = vel_des - get_pll_vel(motor);\n",
    "        if (motor->control_mode >= CTRL_MODE_VELOCITY_CONTROL) {\n",
    "            Iq += motor->vel_gain * v_err;\n",
    "        }\n",
    "```\n",
    "Set the value of variable \"Iq\" equal to the value returned by the \"current_setpoint\" entity<br>\n",
    "if the motor is in \"anti-cogging\" mode, update Iq with the value returned by the cogging-map<br>\n",
    "set v_error (velocity error) equal to the difference between the design velocity and the current velocity read using the \"get_pll_vel\" function<br>\n",
    "if velocity control mode is being used, update the value of Iq using the formula<br><br>\n",
    "\n",
    "```c\n",
    "        // Velocity integral action before limiting\n",
    "        Iq += motor->vel_integrator_current;\n",
    "\n",
    "        // Apply motor direction correction\n",
    "        if (motor->rotor_mode == ROTOR_MODE_ENCODER ||\n",
    "            motor->rotor_mode == ROTOR_MODE_RUN_ENCODER_TEST_SENSORLESS) {\n",
    "            Iq *= motor->encoder.motor_dir;\n",
    "        }\n",
    "```\n",
    "Update the value of Iq by adding the vale of the velocity integrator current saved in the configuration<br>\n",
    "if the motor is being run by being controlled by encoder signals or is being tested in sensorless mode, apply the motor direction correction to Iq using the formula<br><br>\n",
    "\n",
    "```c\n",
    "        // Current limiting\n",
    "        float Ilim = MACRO_MIN(motor->current_control.current_lim, motor->current_control.max_allowed_current);\n",
    "        bool limited = false;\n",
    "        if (Iq > Ilim) {\n",
    "            limited = true;\n",
    "            Iq = Ilim;\n",
    "        }\n",
    "        if (Iq < -Ilim) {\n",
    "            limited = true;\n",
    "            Iq = -Ilim;\n",
    "        }\n",
    "```\n",
    "For the current limited mode, the value of variable Ilim (Current limit) is set equal to the minimum of the saved current limit value (in configuration) and the saved value of max allowable current<br>\n",
    "if the current value of the electric current is greater than the value given to Ilim, reduce it to Ilim value and set the value of boolean type variable to \"True\"<br>\n",
    "if its value is less than the negative of Ilim, increase it to that value and set \"limited\" equal to \"True\"<br><br>\n",
    "\n",
    "```c\n",
    "        // Velocity integrator (behaviour dependent on limiting)\n",
    "        if (motor->control_mode < CTRL_MODE_VELOCITY_CONTROL) {\n",
    "            // reset integral if not in use\n",
    "            motor->vel_integrator_current = 0.0f;\n",
    "        } else {\n",
    "            if (limited) {\n",
    "                // TODO make decayfactor configurable\n",
    "                motor->vel_integrator_current *= 0.99f;\n",
    "            } else {\n",
    "                motor->vel_integrator_current += (motor->vel_integrator_gain * current_meas_period) * v_err;\n",
    "            }\n",
    "        }\n",
    "```\n",
    "if the control mode is not velocity control, reset the value of velocity integrator current to zero<br>\n",
    "else if it is being run using current limiting (under velocity control mode) , set its value to 99% of its old value<br>\n",
    "if not current limiting mode (under velocity control mode), set the integrator value to new value using formula<br><br>\n",
    "\n",
    "\n",
    "```c\n",
    "        // Execute current command\n",
    "        if (motor->motor_type == MOTOR_TYPE_HIGH_CURRENT) {\n",
    "            if(!FOC_current(motor, 0.0f, Iq)){\n",
    "                break; // in case of error exit loop, motor->error has been set by FOC_current\n",
    "            }\n",
    "        } else if (motor->motor_type == MOTOR_TYPE_GIMBAL) {\n",
    "            //In gimbal motor mode, current is reinterptreted as voltage.\n",
    "            if(!FOC_voltage(motor, 0.0f, Iq)){\n",
    "                break; // in case of error exit loop, motor->error has been set by FOC_voltage\n",
    "            }\n",
    "        } else {\n",
    "            motor->error = ERROR_NOT_IMPLEMENTED_MOTOR_TYPE;\n",
    "            break;\n",
    "        }\n",
    "\n",
    "        ++(motor->loop_counter);\n",
    "```\n",
    "if the motor is being run in high current input mode and the value of current is higher than that determined by Iq, stop execution and give error<br>\n",
    "if in gimbal mode, and velocity is not within limits, stop execution and give error<br>\n",
    "else if mode not specified, exit and give appropriate error<br><br>\n",
    "\n",
    "```c\n",
    "    }\n",
    "```\n",
    "end of while loop<br>\n",
    "```c\n",
    "    //We are exiting control, reset Ibus, and update brake current\n",
    "    motor->current_control.Ibus = 0.0f;\n",
    "    update_brake_current();\n",
    "\n",
    "}\n",
    "```\n",
    "End of sub-routine<br><br>"
   ]
  },
  {
   "cell_type": "markdown",
   "metadata": {},
   "source": [
    "## Problem 2: Connecting to ODrive through the python library"
   ]
  },
  {
   "cell_type": "markdown",
   "metadata": {},
   "source": [
    "__2.1__ The ODrive provides a python library called ```odrive``` in the ```/ODrive/Tools/``` directory. A python library consists of a folder (```odrive``` in this case) which contains python files and a file called ```__init__.py```. Find this library.\n",
    "\n",
    "__2.2__ Test that you can import the ```odrive``` library and other required libraries into Python by running the code below (shift-enter when the cell is selected). You may need to move your Copy the ```odrive``` folder to the same folder as this notebook, or move this notebook to the same directory as ```odrive```. \n",
    "\n"
   ]
  },
  {
   "cell_type": "code",
   "execution_count": 12,
   "metadata": {},
   "outputs": [],
   "source": [
    "import odrive.core\n",
    "import time\n",
    "import math\n",
    "\n",
    "import numpy as np\n",
    "import matplotlib.pyplot as plt\n",
    "\n",
    "from IPython.lib.display import YouTubeVideo # for youtube videos\n",
    "\n",
    "# This may be qt4 depending on your python environment\n",
    "%matplotlib qt5\n"
   ]
  },
  {
   "cell_type": "markdown",
   "metadata": {},
   "source": [
    "__2.3__ Run the code below to connect to the odrive motor controller. If this executes successfully you will be able to access the motor controller functions through the ```my_drive``` variable."
   ]
  },
  {
   "cell_type": "code",
   "execution_count": 337,
   "metadata": {},
   "outputs": [
    {
     "name": "stdout",
     "output_type": "stream",
     "text": [
      "looking for ODrive...\n",
      "Found ODrive via PyUSB\n",
      "ConfigurationValue 1\n",
      "\tInterfaceNumber 0,0\n",
      "\t\tEndpointAddress 130\n",
      "\tInterfaceNumber 1,1\n",
      "\t\tEndpointAddress 1\n",
      "\t\tEndpointAddress 129\n",
      "\n",
      "EndpointAddress for writing 1\n",
      "\n",
      "EndpointAddress for reading 129\n",
      "\n",
      "Connecting to device on USB device bus 0 device 20\n",
      "JSON: [{\"name\":\"\",\"id\":0,\"type\":\"json\",\"access\":\"rw\"},{\"name\":\"vbus_voltage\",\"id\":1,\"type\":\"float\",\"access\":\"r\"},{\"name\":\"serial_number\",\"id\":2,\"type\":\"uint64\",\"access\":\"r\"},{\"name\":\"run_anticogging_calibration\",\"id\":3,\"type\":\"function\",\"arguments\":[]},{\"name\":\"config\",\"id\":5,\"type\":\"object\",\"members\":[{\"name\":\"brake_resistance\",\"id\":6,\"type\":\"float\",\"access\":\"rw\"}]},{\"name\":\"axis0\",\"id\":8,\"type\":\"object\",\"members\":[{\"name\":\"config\",\"id\":9,\"type\":\"object\",\"members\":[{\"name\":\"enable_control_at_start\",\"id\":10,\"type\":\"bool\",\"access\":\"rw\"},{\"name\":\"do_calibration_at_start\",\"id\":11,\"type\":\"bool\",\"access\":\"rw\"}]}]},{\"name\":\"motor0\",\"id\":14,\"type\":\"object\",\"members\":[{\"name\":\"config\",\"id\":15,\"type\":\"object\",\"members\":[{\"name\":\"control_mode\",\"id\":16,\"type\":\"uint8\",\"access\":\"rw\"},{\"name\":\"counts_per_step\",\"id\":17,\"type\":\"float\",\"access\":\"rw\"},{\"name\":\"pole_pairs\",\"id\":18,\"type\":\"int32\",\"access\":\"rw\"},{\"name\":\"pos_gain\",\"id\":19,\"type\":\"float\",\"access\":\"rw\"},{\"name\":\"vel_gain\",\"id\":20,\"type\":\"float\",\"access\":\"rw\"},{\"name\":\"vel_integrator_gain\",\"id\":21,\"type\":\"float\",\"access\":\"rw\"},{\"name\":\"vel_limit\",\"id\":22,\"type\":\"float\",\"access\":\"rw\"},{\"name\":\"calibration_current\",\"id\":23,\"type\":\"float\",\"access\":\"rw\"},{\"name\":\"resistance_calib_max_voltage\",\"id\":24,\"type\":\"float\",\"access\":\"rw\"},{\"name\":\"phase_inductance\",\"id\":25,\"type\":\"float\",\"access\":\"rw\"},{\"name\":\"phase_resistance\",\"id\":26,\"type\":\"float\",\"access\":\"rw\"},{\"name\":\"motor_type\",\"id\":27,\"type\":\"uint8\",\"access\":\"rw\"},{\"name\":\"rotor_mode\",\"id\":28,\"type\":\"uint8\",\"access\":\"rw\"}]},{\"name\":\"error\",\"id\":30,\"type\":\"uint8\",\"access\":\"rw\"},{\"name\":\"pos_setpoint\",\"id\":31,\"type\":\"float\",\"access\":\"rw\"},{\"name\":\"vel_setpoint\",\"id\":32,\"type\":\"float\",\"access\":\"rw\"},{\"name\":\"vel_integrator_current\",\"id\":33,\"type\":\"float\",\"access\":\"rw\"},{\"name\":\"current_setpoint\",\"id\":34,\"type\":\"float\",\"access\":\"rw\"},{\"name\":\"current_meas_phB\",\"id\":35,\"type\":\"float\",\"access\":\"r\"},{\"name\":\"current_meas_phC\",\"id\":36,\"type\":\"float\",\"access\":\"r\"},{\"name\":\"DC_calib.phB\",\"id\":37,\"type\":\"float\",\"access\":\"rw\"},{\"name\":\"DC_calib.phC\",\"id\":38,\"type\":\"float\",\"access\":\"rw\"},{\"name\":\"shunt_conductance\",\"id\":39,\"type\":\"float\",\"access\":\"rw\"},{\"name\":\"phase_current_rev_gain\",\"id\":40,\"type\":\"float\",\"access\":\"rw\"},{\"name\":\"thread_ready\",\"id\":41,\"type\":\"bool\",\"access\":\"rw\"},{\"name\":\"control_deadline\",\"id\":42,\"type\":\"uint16\",\"access\":\"rw\"},{\"name\":\"last_cpu_time\",\"id\":43,\"type\":\"uint16\",\"access\":\"rw\"},{\"name\":\"loop_counter\",\"id\":44,\"type\":\"uint32\",\"access\":\"rw\"},{\"name\":\"current_control\",\"id\":45,\"type\":\"object\",\"members\":[{\"name\":\"config\",\"id\":46,\"type\":\"object\",\"members\":[{\"name\":\"current_lim\",\"id\":47,\"type\":\"float\",\"access\":\"rw\"}]},{\"name\":\"p_gain\",\"id\":49,\"type\":\"float\",\"access\":\"rw\"},{\"name\":\"i_gain\",\"id\":50,\"type\":\"float\",\"access\":\"rw\"},{\"name\":\"v_current_control_integral_d\",\"id\":51,\"type\":\"float\",\"access\":\"rw\"},{\"name\":\"v_current_control_integral_q\",\"id\":52,\"type\":\"float\",\"access\":\"rw\"},{\"name\":\"Iq_setpoint\",\"id\":53,\"type\":\"float\",\"access\":\"rw\"},{\"name\":\"Iq_measured\",\"id\":54,\"type\":\"float\",\"access\":\"rw\"},{\"name\":\"Ibus\",\"id\":55,\"type\":\"float\",\"access\":\"r\"}]},{\"name\":\"gate_driver\",\"id\":57,\"type\":\"object\",\"members\":[{\"name\":\"drv_fault\",\"id\":58,\"type\":\"uint16\",\"access\":\"rw\"},{\"name\":\"status_reg_1\",\"id\":59,\"type\":\"uint16\",\"access\":\"rw\"},{\"name\":\"status_reg_2\",\"id\":60,\"type\":\"uint16\",\"access\":\"rw\"},{\"name\":\"ctrl_reg_1\",\"id\":61,\"type\":\"uint16\",\"access\":\"rw\"},{\"name\":\"ctrl_reg_2\",\"id\":62,\"type\":\"uint16\",\"access\":\"rw\"}]},{\"name\":\"encoder\",\"id\":64,\"type\":\"object\",\"members\":[{\"name\":\"config\",\"id\":65,\"type\":\"object\",\"members\":[{\"name\":\"use_index\",\"id\":66,\"type\":\"bool\",\"access\":\"rw\"},{\"name\":\"manually_calibrated\",\"id\":67,\"type\":\"bool\",\"access\":\"rw\"},{\"name\":\"idx_search_speed\",\"id\":68,\"type\":\"float\",\"access\":\"rw\"},{\"name\":\"cpr\",\"id\":69,\"type\":\"int32\",\"access\":\"rw\"},{\"name\":\"offset\",\"id\":70,\"type\":\"int32\",\"access\":\"rw\"},{\"name\":\"motor_dir\",\"id\":71,\"type\":\"int32\",\"access\":\"rw\"}]},{\"name\":\"phase\",\"id\":73,\"type\":\"float\",\"access\":\"r\"},{\"name\":\"pll_pos\",\"id\":74,\"type\":\"float\",\"access\":\"rw\"},{\"name\":\"pll_vel\",\"id\":75,\"type\":\"float\",\"access\":\"rw\"},{\"name\":\"pll_kp\",\"id\":76,\"type\":\"float\",\"access\":\"rw\"},{\"name\":\"pll_ki\",\"id\":77,\"type\":\"float\",\"access\":\"rw\"},{\"name\":\"encoder_offset\",\"id\":78,\"type\":\"int32\",\"access\":\"rw\"},{\"name\":\"encoder_state\",\"id\":79,\"type\":\"int32\",\"access\":\"rw\"},{\"name\":\"motor_dir\",\"id\":80,\"type\":\"int32\",\"access\":\"rw\"}]},{\"name\":\"set_pos_setpoint\",\"id\":82,\"type\":\"function\",\"arguments\":[{\"name\":\"pos_setpoint\",\"id\":83,\"type\":\"float\",\"access\":\"rw\"},{\"name\":\"vel_feed_forward\",\"id\":84,\"type\":\"float\",\"access\":\"rw\"},{\"name\":\"current_feed_forward\",\"id\":85,\"type\":\"float\",\"access\":\"rw\"}]},{\"name\":\"set_vel_setpoint\",\"id\":87,\"type\":\"function\",\"arguments\":[{\"name\":\"vel_setpoint\",\"id\":88,\"type\":\"float\",\"access\":\"rw\"},{\"name\":\"current_feed_forward\",\"id\":89,\"type\":\"float\",\"access\":\"rw\"}]},{\"name\":\"set_current_setpoint\",\"id\":91,\"type\":\"function\",\"arguments\":[{\"name\":\"current_setpoint\",\"id\":92,\"type\":\"float\",\"access\":\"rw\"}]},{\"name\":\"timing_log\",\"id\":94,\"type\":\"object\",\"members\":[{\"name\":\"TIMING_LOG_GENERAL\",\"id\":95,\"type\":\"uint16\",\"access\":\"rw\"},{\"name\":\"TIMING_LOG_ADC_CB_M0_I\",\"id\":96,\"type\":\"uint16\",\"access\":\"rw\"},{\"name\":\"TIMING_LOG_ADC_CB_M0_DC\",\"id\":97,\"type\":\"uint16\",\"access\":\"rw\"},{\"name\":\"TIMING_LOG_ADC_CB_M1_I\",\"id\":98,\"type\":\"uint16\",\"access\":\"rw\"},{\"name\":\"TIMING_LOG_ADC_CB_M1_DC\",\"id\":99,\"type\":\"uint16\",\"access\":\"rw\"},{\"name\":\"TIMING_LOG_MEAS_R\",\"id\":100,\"type\":\"uint16\",\"access\":\"rw\"},{\"name\":\"TIMING_LOG_MEAS_L\",\"id\":101,\"type\":\"uint16\",\"access\":\"rw\"},{\"name\":\"TIMING_LOG_ENC_CALIB\",\"id\":102,\"type\":\"uint16\",\"access\":\"rw\"},{\"name\":\"TIMING_LOG_IDX_SEARCH\",\"id\":103,\"type\":\"uint16\",\"access\":\"rw\"},{\"name\":\"TIMING_LOG_FOC_VOLTAGE\",\"id\":104,\"type\":\"uint16\",\"access\":\"rw\"},{\"name\":\"TIMING_LOG_FOC_CURRENT\",\"id\":105,\"type\":\"uint16\",\"access\":\"rw\"}]}]},{\"name\":\"axis1\",\"id\":108,\"type\":\"object\",\"members\":[{\"name\":\"config\",\"id\":109,\"type\":\"object\",\"members\":[{\"name\":\"enable_control_at_start\",\"id\":110,\"type\":\"bool\",\"access\":\"rw\"},{\"name\":\"do_calibration_at_start\",\"id\":111,\"type\":\"bool\",\"access\":\"rw\"}]}]},{\"name\":\"motor1\",\"id\":114,\"type\":\"object\",\"members\":[{\"name\":\"config\",\"id\":115,\"type\":\"object\",\"members\":[{\"name\":\"control_mode\",\"id\":116,\"type\":\"uint8\",\"access\":\"rw\"},{\"name\":\"counts_per_step\",\"id\":117,\"type\":\"float\",\"access\":\"rw\"},{\"name\":\"pole_pairs\",\"id\":118,\"type\":\"int32\",\"access\":\"rw\"},{\"name\":\"pos_gain\",\"id\":119,\"type\":\"float\",\"access\":\"rw\"},{\"name\":\"vel_gain\",\"id\":120,\"type\":\"float\",\"access\":\"rw\"},{\"name\":\"vel_integrator_gain\",\"id\":121,\"type\":\"float\",\"access\":\"rw\"},{\"name\":\"vel_limit\",\"id\":122,\"type\":\"float\",\"access\":\"rw\"},{\"name\":\"calibration_current\",\"id\":123,\"type\":\"float\",\"access\":\"rw\"},{\"name\":\"resistance_calib_max_voltage\",\"id\":124,\"type\":\"float\",\"access\":\"rw\"},{\"name\":\"phase_inductance\",\"id\":125,\"type\":\"float\",\"access\":\"rw\"},{\"name\":\"phase_resistance\",\"id\":126,\"type\":\"float\",\"access\":\"rw\"},{\"name\":\"motor_type\",\"id\":127,\"type\":\"uint8\",\"access\":\"rw\"},{\"name\":\"rotor_mode\",\"id\":128,\"type\":\"uint8\",\"access\":\"rw\"}]},{\"name\":\"error\",\"id\":130,\"type\":\"uint8\",\"access\":\"rw\"},{\"name\":\"pos_setpoint\",\"id\":131,\"type\":\"float\",\"access\":\"rw\"},{\"name\":\"vel_setpoint\",\"id\":132,\"type\":\"float\",\"access\":\"rw\"},{\"name\":\"vel_integrator_current\",\"id\":133,\"type\":\"float\",\"access\":\"rw\"},{\"name\":\"current_setpoint\",\"id\":134,\"type\":\"float\",\"access\":\"rw\"},{\"name\":\"current_meas_phB\",\"id\":135,\"type\":\"float\",\"access\":\"r\"},{\"name\":\"current_meas_phC\",\"id\":136,\"type\":\"float\",\"access\":\"r\"},{\"name\":\"DC_calib.phB\",\"id\":137,\"type\":\"float\",\"access\":\"rw\"},{\"name\":\"DC_calib.phC\",\"id\":138,\"type\":\"float\",\"access\":\"rw\"},{\"name\":\"shunt_conductance\",\"id\":139,\"type\":\"float\",\"access\":\"rw\"},{\"name\":\"phase_current_rev_gain\",\"id\":140,\"type\":\"float\",\"access\":\"rw\"},{\"name\":\"thread_ready\",\"id\":141,\"type\":\"bool\",\"access\":\"rw\"},{\"name\":\"control_deadline\",\"id\":142,\"type\":\"uint16\",\"access\":\"rw\"},{\"name\":\"last_cpu_time\",\"id\":143,\"type\":\"uint16\",\"access\":\"rw\"},{\"name\":\"loop_counter\",\"id\":144,\"type\":\"uint32\",\"access\":\"rw\"},{\"name\":\"current_control\",\"id\":145,\"type\":\"object\",\"members\":[{\"name\":\"config\",\"id\":146,\"type\":\"object\",\"members\":[{\"name\":\"current_lim\",\"id\":147,\"type\":\"float\",\"access\":\"rw\"}]},{\"name\":\"p_gain\",\"id\":149,\"type\":\"float\",\"access\":\"rw\"},{\"name\":\"i_gain\",\"id\":150,\"type\":\"float\",\"access\":\"rw\"},{\"name\":\"v_current_control_integral_d\",\"id\":151,\"type\":\"float\",\"access\":\"rw\"},{\"name\":\"v_current_control_integral_q\",\"id\":152,\"type\":\"float\",\"access\":\"rw\"},{\"name\":\"Iq_setpoint\",\"id\":153,\"type\":\"float\",\"access\":\"rw\"},{\"name\":\"Iq_measured\",\"id\":154,\"type\":\"float\",\"access\":\"rw\"},{\"name\":\"Ibus\",\"id\":155,\"type\":\"float\",\"access\":\"r\"}]},{\"name\":\"gate_driver\",\"id\":157,\"type\":\"object\",\"members\":[{\"name\":\"drv_fault\",\"id\":158,\"type\":\"uint16\",\"access\":\"rw\"},{\"name\":\"status_reg_1\",\"id\":159,\"type\":\"uint16\",\"access\":\"rw\"},{\"name\":\"status_reg_2\",\"id\":160,\"type\":\"uint16\",\"access\":\"rw\"},{\"name\":\"ctrl_reg_1\",\"id\":161,\"type\":\"uint16\",\"access\":\"rw\"},{\"name\":\"ctrl_reg_2\",\"id\":162,\"type\":\"uint16\",\"access\":\"rw\"}]},{\"name\":\"encoder\",\"id\":164,\"type\":\"object\",\"members\":[{\"name\":\"config\",\"id\":165,\"type\":\"object\",\"members\":[{\"name\":\"use_index\",\"id\":166,\"type\":\"bool\",\"access\":\"rw\"},{\"name\":\"manually_calibrated\",\"id\":167,\"type\":\"bool\",\"access\":\"rw\"},{\"name\":\"idx_search_speed\",\"id\":168,\"type\":\"float\",\"access\":\"rw\"},{\"name\":\"cpr\",\"id\":169,\"type\":\"int32\",\"access\":\"rw\"},{\"name\":\"offset\",\"id\":170,\"type\":\"int32\",\"access\":\"rw\"},{\"name\":\"motor_dir\",\"id\":171,\"type\":\"int32\",\"access\":\"rw\"}]},{\"name\":\"phase\",\"id\":173,\"type\":\"float\",\"access\":\"r\"},{\"name\":\"pll_pos\",\"id\":174,\"type\":\"float\",\"access\":\"rw\"},{\"name\":\"pll_vel\",\"id\":175,\"type\":\"float\",\"access\":\"rw\"},{\"name\":\"pll_kp\",\"id\":176,\"type\":\"float\",\"access\":\"rw\"},{\"name\":\"pll_ki\",\"id\":177,\"type\":\"float\",\"access\":\"rw\"},{\"name\":\"encoder_offset\",\"id\":178,\"type\":\"int32\",\"access\":\"rw\"},{\"name\":\"encoder_state\",\"id\":179,\"type\":\"int32\",\"access\":\"rw\"},{\"name\":\"motor_dir\",\"id\":180,\"type\":\"int32\",\"access\":\"rw\"}]},{\"name\":\"set_pos_setpoint\",\"id\":182,\"type\":\"function\",\"arguments\":[{\"name\":\"pos_setpoint\",\"id\":183,\"type\":\"float\",\"access\":\"rw\"},{\"name\":\"vel_feed_forward\",\"id\":184,\"type\":\"float\",\"access\":\"rw\"},{\"name\":\"current_feed_forward\",\"id\":185,\"type\":\"float\",\"access\":\"rw\"}]},{\"name\":\"set_vel_setpoint\",\"id\":187,\"type\":\"function\",\"arguments\":[{\"name\":\"vel_setpoint\",\"id\":188,\"type\":\"float\",\"access\":\"rw\"},{\"name\":\"current_feed_forward\",\"id\":189,\"type\":\"float\",\"access\":\"rw\"}]},{\"name\":\"set_current_setpoint\",\"id\":191,\"type\":\"function\",\"arguments\":[{\"name\":\"current_setpoint\",\"id\":192,\"type\":\"float\",\"access\":\"rw\"}]},{\"name\":\"timing_log\",\"id\":194,\"type\":\"object\",\"members\":[{\"name\":\"TIMING_LOG_GENERAL\",\"id\":195,\"type\":\"uint16\",\"access\":\"rw\"},{\"name\":\"TIMING_LOG_ADC_CB_M0_I\",\"id\":196,\"type\":\"uint16\",\"access\":\"rw\"},{\"name\":\"TIMING_LOG_ADC_CB_M0_DC\",\"id\":197,\"type\":\"uint16\",\"access\":\"rw\"},{\"name\":\"TIMING_LOG_ADC_CB_M1_I\",\"id\":198,\"type\":\"uint16\",\"access\":\"rw\"},{\"name\":\"TIMING_LOG_ADC_CB_M1_DC\",\"id\":199,\"type\":\"uint16\",\"access\":\"rw\"},{\"name\":\"TIMING_LOG_MEAS_R\",\"id\":200,\"type\":\"uint16\",\"access\":\"rw\"},{\"name\":\"TIMING_LOG_MEAS_L\",\"id\":201,\"type\":\"uint16\",\"access\":\"rw\"},{\"name\":\"TIMING_LOG_ENC_CALIB\",\"id\":202,\"type\":\"uint16\",\"access\":\"rw\"},{\"name\":\"TIMING_LOG_IDX_SEARCH\",\"id\":203,\"type\":\"uint16\",\"access\":\"rw\"},{\"name\":\"TIMING_LOG_FOC_VOLTAGE\",\"id\":204,\"type\":\"uint16\",\"access\":\"rw\"},{\"name\":\"TIMING_LOG_FOC_CURRENT\",\"id\":205,\"type\":\"uint16\",\"access\":\"rw\"}]}]},{\"name\":\"save_configuration\",\"id\":208,\"type\":\"function\",\"arguments\":[]},{\"name\":\"erase_configuration\",\"id\":210,\"type\":\"function\",\"arguments\":[]},{\"name\":\"reboot\",\"id\":212,\"type\":\"function\",\"arguments\":[]},{\"name\":\"enter_dfu_mode\",\"id\":214,\"type\":\"function\",\"arguments\":[]}]\n",
      "property [anonymous] has unsupported type json\n"
     ]
    }
   ],
   "source": [
    "my_drive = odrive.core.find_any(consider_usb=True, consider_serial=False, printer=print)\n",
    "\n",
    "# define handles to the motor functions\n",
    "m0=my_drive.motor0\n",
    "m1=my_drive.motor1 \n"
   ]
  },
  {
   "cell_type": "markdown",
   "metadata": {},
   "source": [
    "## Problem 3: Exploring and interacting with the ODrive"
   ]
  },
  {
   "cell_type": "markdown",
   "metadata": {},
   "source": [
    "__3.1__ Write a function to call read the encoder position and velocity estimates and return them. As a start, the encoder position for motor 0 can be read using the ```m0.encoder.pll_pos,m1.encoder.pll_pos``` command. "
   ]
  },
  {
   "cell_type": "code",
   "execution_count": 338,
   "metadata": {},
   "outputs": [
    {
     "name": "stdout",
     "output_type": "stream",
     "text": [
      "(0.19764643907546997, -0.0135345458984375, -0.7858702540397644, -0.0015716552734375)\n"
     ]
    }
   ],
   "source": [
    "# in python we can define a function using the def command. The function definition code is indicated by tab indented code. When the \n",
    "# tab indentation stops the function definition has stopped. As shown below we can define a function and then call it immediately after\n",
    "def get_encoder_state():\n",
    "    \n",
    "    motor0_position = m0.encoder.pll_pos\n",
    "    motor1_position = m1.encoder.pll_pos\n",
    "    motor0_velocity = m0.encoder.pll_vel\n",
    "    motor1_velocity = m1.encoder.pll_vel\n",
    "    \n",
    "    return (motor0_position, motor0_velocity, motor1_position, motor1_velocity)\n",
    "    \n",
    "    \n",
    "# We can now call this function in the same code block\n",
    "state = get_encoder_state()\n",
    "print(state)\n"
   ]
  },
  {
   "cell_type": "markdown",
   "metadata": {},
   "source": [
    "__3.2__ The motor encoder returns absolute position measurements that are zerod on the position the motor was in during startup. It is useful to define new motor origins for the left and righ motor. Extend the legs so that they are straight and then read the encoder positions to the tuple variable \n",
    "\n",
    "```home_position = (motor0_home, motor1_home)```\n",
    "\n",
    "A tuple is like an array, it can contain sequences of objects (numbers, strings, etc.), but it cannot be changed after it is written so it is perfect for storing unchangeable data like the home location."
   ]
  },
  {
   "cell_type": "code",
   "execution_count": 230,
   "metadata": {},
   "outputs": [
    {
     "name": "stdout",
     "output_type": "stream",
     "text": [
      "0.0005000000237487257 0.0005000000237487257\n",
      "20.0 20.0\n",
      "0.0010000000474974513 0.0010000000474974513\n"
     ]
    }
   ],
   "source": [
    "#Check values before changing for record keeping\n",
    "\n",
    "m0vgain = m0.config.vel_gain\n",
    "m1vgain = m1.config.vel_gain\n",
    "m0pgain = m0.config.pos_gain\n",
    "m1pgain = m1.config.pos_gain\n",
    "m0int = m0.config.vel_integrator_gain \n",
    "m1int = m1.config.vel_integrator_gain\n",
    "\n",
    "\n",
    "print(m0vgain,m1vgain)\n",
    "print(m0pgain,m1pgain)\n",
    "print(m0int,m1int)"
   ]
  },
  {
   "cell_type": "code",
   "execution_count": null,
   "metadata": {},
   "outputs": [],
   "source": [
    "#To make motors turn with external force without any resistance \n",
    "m0.config.pos_gain = 0\n",
    "m0.config.vel_integrator_gain = 0\n",
    "\n",
    "m1.config.pos_gain = 0\n",
    "m1.config.vel_integrator_gain = 0\n"
   ]
  },
  {
   "cell_type": "code",
   "execution_count": 388,
   "metadata": {},
   "outputs": [
    {
     "name": "stdout",
     "output_type": "stream",
     "text": [
      "(-0.2294202744960785, -1.344172716140747)\n"
     ]
    }
   ],
   "source": [
    "motor0_home = m0.encoder.pll_pos\n",
    "motor1_home = m1.encoder.pll_pos\n",
    "\n",
    "home_position = (motor0_home,motor1_home)\n",
    "print(home_position)"
   ]
  },
  {
   "cell_type": "code",
   "execution_count": 331,
   "metadata": {},
   "outputs": [],
   "source": [
    "#Reset back to default values: Loosen legs before running!!\n",
    "\n",
    "\n",
    "m0.config.pos_gain = m0pgain\n",
    "m0.config.vel_integrator_gain = m0int\n",
    "\n",
    "m1.config.pos_gain = m1pgain\n",
    "m1.config.vel_integrator_gain = m1int"
   ]
  },
  {
   "cell_type": "markdown",
   "metadata": {},
   "source": [
    "__3.3__ The motor move commands will move them to absolute positions with respect to the encoder zero position, this may not be the same as the ```home_position``` that we defined above. Write a function to move the motors to an absolute position relative to the ```home_position```. For reference we can move a motor with the ```set_pos_setpoint(pos_setpoint, vel_feed_forward, current_feed_forward)``` command. We don't need the feedforward terms in this problem."
   ]
  },
  {
   "cell_type": "code",
   "execution_count": 309,
   "metadata": {},
   "outputs": [
    {
     "name": "stdout",
     "output_type": "stream",
     "text": [
      "Position before rotation is: ( 54943.9765625 , 54942.76171875 )\n",
      "Position after rotation is: ( 55029.76953125 , 55029.76171875 )\n"
     ]
    }
   ],
   "source": [
    "def move_motors(motor1_new_position, motor2_new_position):\n",
    "    m0.set_pos_setpoint(motor1_new_position + home_position[0], 0, 0)\n",
    "    m1.set_pos_setpoint(motor2_new_position + home_position[1], 0, 0)\n",
    "    \n",
    "\n",
    "#Calling function\n",
    "state = get_encoder_state()\n",
    "print(\"Position before rotation is: (\",state[0],\",\",state[2],\")\") \n",
    "\n",
    "move_motors(100, 100) # note make the intial move distance small!!\n",
    "\n",
    "time.sleep(0.75)\n",
    "state = get_encoder_state()\n",
    "print(\"Position after rotation is: (\",state[0],\",\",state[2],\")\") "
   ]
  },
  {
   "cell_type": "code",
   "execution_count": 389,
   "metadata": {},
   "outputs": [
    {
     "name": "stdout",
     "output_type": "stream",
     "text": [
      "Position before rotation is: ( 0.23584401607513428 , -1.1513874530792236 )\n",
      "Position after rotation is: ( -2.765634059906006 , -1.1126630306243896 )\n",
      "home is: (-0.2294202744960785, -1.344172716140747)\n"
     ]
    }
   ],
   "source": [
    "#return home:\n",
    "def go_home():\n",
    "    m0.set_pos_setpoint(home_position[0], 0, 0)\n",
    "    m1.set_pos_setpoint(home_position[1], 0, 0)\n",
    "    \n",
    "    \n",
    "#Calling function  \n",
    "state = get_encoder_state()\n",
    "print(\"Position before rotation is: (\",state[0],\",\",state[2],\")\") \n",
    "\n",
    "go_home()\n",
    "\n",
    "time.sleep(0.75)\n",
    "state = get_encoder_state()\n",
    "print(\"Position after rotation is: (\",state[0],\",\",state[2],\")\")\n",
    "print(\"home is:\",home_position)"
   ]
  },
  {
   "cell_type": "markdown",
   "metadata": {},
   "source": [
    "## Problem 4: Determine the workspace of the robot leg"
   ]
  },
  {
   "cell_type": "markdown",
   "metadata": {},
   "source": [
    "__4.1__ The end of the robot leg has a hole in it. Place a pen in the hole, place a paper below the robot and trace out the boundary of the robot leg's workspace by hand. Make sure to note where the edge of the aluminum frame is. Take a picture of the workspace tracing (keep your robot in place) and attach it to you this notebook. You can attach images by putting them in the same directory and then writing ```![Image description](filename.extension)```  "
   ]
  },
  {
   "cell_type": "markdown",
   "metadata": {},
   "source": [
    "__4.2__ Now repeat the measurement of the leg workspace while recording the encoder position (*relative to your new home*) in a loop. This is a measurement configuration space of the robot which is two dimensional ($\\theta_0$, $\\theta_1$), and bounded by the leg range of motion. Make a plot of the configuration space boundaries by plotting your measured positions as ```xy``` coordinates ($\\theta_0$, $\\theta_1$). Include two plots below, the first is the configuration space using encoder units, the second is scaled to $-\\pi,\\pi$. You will have to determined the calibration constant (note the encoder generates 2048\\*4 counts per revolution)."
   ]
  },
  {
   "cell_type": "code",
   "execution_count": 314,
   "metadata": {},
   "outputs": [],
   "source": [
    "#To make motors turn with external force without any resistance \n",
    "m0.config.pos_gain = 0\n",
    "m0.config.vel_integrator_gain = 0\n",
    "\n",
    "m1.config.pos_gain = 0\n",
    "m1.config.vel_integrator_gain = 0"
   ]
  },
  {
   "cell_type": "code",
   "execution_count": 330,
   "metadata": {},
   "outputs": [
    {
     "data": {
      "text/plain": [
       "Text(0,0.5,'Right')"
      ]
     },
     "execution_count": 330,
     "metadata": {},
     "output_type": "execute_result"
    }
   ],
   "source": [
    "# Setup an array to store the encoder positions\n",
    "left_motor = [] # initialize a empty list. You can add to a list with the left_motor.append(item) command\n",
    "right_motor = [] # initialize an empty list\n",
    "\n",
    "calibration=2048*4/(2*math.pi)\n",
    "\n",
    "for i in range(30):\n",
    "        left_motor.append(m1.encoder.pll_pos - home_position[1] )\n",
    "        right_motor.append(m0.encoder.pll_pos - home_position[0] )\n",
    "        time.sleep(0.5)\n",
    "current_time = time.monotonic()\n",
    "\n",
    "\n",
    "    \n",
    "# Plot the results using encoder values (centered on your new home) and scaled to be between -pi, pi\n",
    "plt.subplot(1,2,1)\n",
    "plt.plot(left_motor, right_motor)\n",
    "plt.xlabel('Left')\n",
    "plt.ylabel('Right')\n",
    "\n",
    "plt.subplot(1,2,2)\n",
    "plt.plot([c/calibration for c in left_motor], [c/calibration for c in right_motor])\n",
    "#plt.plot(left_motor / calibration, right_motor / calibration)\n",
    "plt.xlabel('Left')\n",
    "plt.ylabel('Right')\n",
    "\n"
   ]
  },
  {
   "cell_type": "markdown",
   "metadata": {},
   "source": [
    "![Workspace Photo](photo1.jpg)"
   ]
  },
  {
   "cell_type": "markdown",
   "metadata": {},
   "source": [
    "![Workspace_plot](Figure_1.png)"
   ]
  },
  {
   "cell_type": "markdown",
   "metadata": {},
   "source": [
    "## Problem 5: Command a simple cyclic gait of the leg"
   ]
  },
  {
   "cell_type": "markdown",
   "metadata": {},
   "source": [
    "__5.1__ In this last problem we will command a simple cyclic gait of the leg by sending sinusoidal position commands to the motors and exploring how phase and amplitude differences influence the foot motion. Record the encoder position while running the gait and provide plots of the motor angles as a function of time. Additionally, take a video of each gait and post it to youtube, including a link in the notebook at the very bottom. You can include youtube videos by entering the command ```YouTubeVideo('video_code')``` in a code cell, where video code is found from the youtube page.\n",
    "\n",
    "*Provide plots and videos for three different gaits*\n"
   ]
  },
  {
   "cell_type": "markdown",
   "metadata": {},
   "source": [
    "## Gait 1:"
   ]
  },
  {
   "cell_type": "code",
   "execution_count": 481,
   "metadata": {},
   "outputs": [],
   "source": [
    "#Left = Motor1, Right = Motor0\n",
    "a_l = 900 #Amplitude_left \n",
    "a_r = 900 #Amplitude_right\n",
    "p_l= 0 #Phase_left \n",
    "p_r = math.pi/2 #Phase_right\n",
    "w_l = 5 #omega\n",
    "w_r = 5\n",
    "\n",
    "initial_time = time.monotonic()# record the current time\n",
    "t0 = initial_time\n",
    "current_time = time.monotonic()\n",
    "\n",
    "l_pos = []\n",
    "r_pos = []\n",
    "t = []\n",
    "\n",
    "while (current_time - t0) < 10:\n",
    "    current_time = time.monotonic()\n",
    "    l_new = -a_l*math.sin(w_l*(current_time - t0) + p_l)\n",
    "    r_new = -a_r*math.sin(w_r*(current_time - t0) + p_r)\n",
    "    move_motors(r_new, l_new)      ##Motor 0 = right , Motor 1 = left !!\n",
    "    l_pos.append(m1.encoder.pll_pos - home_position[1] )\n",
    "    r_pos.append(m0.encoder.pll_pos - home_position[0] )\n",
    "    t.append(current_time - t0)\n",
    "    time.sleep(0.005)\n",
    "    \n",
    "\n",
    "plt.plot(t, l_pos, label = 'Left Motor (m1)')\n",
    "plt.xlabel('Time (sec)')\n",
    "plt.ylabel('Motor Positon')\n",
    "plt.plot(t, r_pos, label = 'Right Motor (m0)')\n",
    "plt.legend(loc='upper right')\n",
    "  \n",
    "\n",
    "go_home()"
   ]
  },
  {
   "cell_type": "markdown",
   "metadata": {},
   "source": [
    "![Gait 1](gait1.png)"
   ]
  },
  {
   "cell_type": "code",
   "execution_count": 15,
   "metadata": {},
   "outputs": [
    {
     "data": {
      "image/jpeg": "[encoded data removed]",
      "text/html": [
       "\n",
       "        <iframe\n",
       "            width=\"400\"\n",
       "            height=\"300\"\n",
       "            src=\"https://www.youtube.com/embed/tYjjI4jPLn4\"\n",
       "            frameborder=\"0\"\n",
       "            allowfullscreen\n",
       "        ></iframe>\n",
       "        "
      ],
      "text/plain": [
       "<IPython.lib.display.YouTubeVideo at 0x1cb17361ba8>"
      ]
     },
     "execution_count": 15,
     "metadata": {},
     "output_type": "execute_result"
    }
   ],
   "source": [
    "YouTubeVideo('tYjjI4jPLn4')"
   ]
  },
  {
   "cell_type": "markdown",
   "metadata": {},
   "source": [
    "## Gait 2:"
   ]
  },
  {
   "cell_type": "code",
   "execution_count": 482,
   "metadata": {},
   "outputs": [],
   "source": [
    "#Left = Motor1, Right = Motor0\n",
    "a_l = 1200 #Amplitude_left \n",
    "a_r = 900 #Amplitude_right\n",
    "p_l = 5*math.pi/6  #Phase_left \n",
    "p_r = math.pi/2 #Phase_right\n",
    "w_l = 5 #omega\n",
    "w_r = 5\n",
    "\n",
    "initial_time = time.monotonic()# record the current time\n",
    "t0 = initial_time\n",
    "current_time = time.monotonic()\n",
    "\n",
    "l_pos = []\n",
    "r_pos = []\n",
    "t = []\n",
    "\n",
    "while (current_time - t0) < 10:\n",
    "    current_time = time.monotonic()\n",
    "    l_new = -a_l*math.sin(w_l*(current_time - t0) + p_l)\n",
    "    r_new = -a_r*math.sin(w_r*(current_time - t0) + p_r)\n",
    "    move_motors(r_new, l_new)      ##Motor 0 = right , Motor 1 = left !!\n",
    "    l_pos.append(m1.encoder.pll_pos - home_position[1] )\n",
    "    r_pos.append(m0.encoder.pll_pos - home_position[0] )\n",
    "    t.append(current_time - t0)\n",
    "    time.sleep(0.005)\n",
    "    \n",
    "plt.plot(t, l_pos, label = 'Left Motor (m1)')\n",
    "plt.xlabel('Time (sec)')\n",
    "plt.ylabel('Motor Positon')\n",
    "plt.plot(t, r_pos, label = 'Right Motor (m0)')\n",
    "plt.legend(loc='upper right')    \n",
    "\n",
    "go_home()"
   ]
  },
  {
   "cell_type": "markdown",
   "metadata": {},
   "source": [
    "![Gait 2](gait 2.png)"
   ]
  },
  {
   "cell_type": "code",
   "execution_count": 16,
   "metadata": {},
   "outputs": [
    {
     "data": {
      "image/jpeg": "[encoded data removed]",
      "text/html": [
       "\n",
       "        <iframe\n",
       "            width=\"400\"\n",
       "            height=\"300\"\n",
       "            src=\"https://www.youtube.com/embed/mWPRoiirISo\"\n",
       "            frameborder=\"0\"\n",
       "            allowfullscreen\n",
       "        ></iframe>\n",
       "        "
      ],
      "text/plain": [
       "<IPython.lib.display.YouTubeVideo at 0x1cb17372e10>"
      ]
     },
     "execution_count": 16,
     "metadata": {},
     "output_type": "execute_result"
    }
   ],
   "source": [
    "YouTubeVideo('mWPRoiirISo')"
   ]
  },
  {
   "cell_type": "markdown",
   "metadata": {},
   "source": [
    "## Gait 3:"
   ]
  },
  {
   "cell_type": "code",
   "execution_count": 483,
   "metadata": {},
   "outputs": [],
   "source": [
    "#Left = Motor1, Right = Motor0\n",
    "a_l = 1500 #Amplitude_left \n",
    "a_r = 500 #Amplitude_right\n",
    "p_l= math.pi/3 #Phase_left \n",
    "p_r = 0 #Phase_right\n",
    "w_l = 5 #omega\n",
    "w_r = 10\n",
    "\n",
    "initial_time = time.monotonic()# record the current time\n",
    "t0 = initial_time\n",
    "current_time = time.monotonic()\n",
    "\n",
    "l_pos = []\n",
    "r_pos = []\n",
    "t = []\n",
    "\n",
    "while (current_time - t0) < 10:\n",
    "    current_time = time.monotonic()\n",
    "    l_new = -a_l*math.sin(w_l*(current_time - t0) + p_l)\n",
    "    r_new = -a_r*math.sin(w_r*(current_time - t0) + p_r)\n",
    "    move_motors(r_new, l_new)      ##Motor 0 = right , Motor 1 = left !!\n",
    "    l_pos.append(m1.encoder.pll_pos - home_position[1] )\n",
    "    r_pos.append(m0.encoder.pll_pos - home_position[0] )\n",
    "    t.append(current_time - t0)\n",
    "    time.sleep(0.005)\n",
    "    \n",
    "plt.plot(t, l_pos, label = 'Left Motor (m1)')\n",
    "plt.xlabel('Time (sec)')\n",
    "plt.ylabel('Motor Positon')\n",
    "plt.plot(t, r_pos, label = 'Right Motor (m0)')\n",
    "plt.legend(loc='upper right')  \n",
    "\n",
    "go_home()"
   ]
  },
  {
   "cell_type": "markdown",
   "metadata": {},
   "source": [
    "![Gait 3](gait 3.png)"
   ]
  },
  {
   "cell_type": "code",
   "execution_count": 17,
   "metadata": {},
   "outputs": [
    {
     "data": {
      "image/jpeg": "[encoded data removed]",
      "text/html": [
       "\n",
       "        <iframe\n",
       "            width=\"400\"\n",
       "            height=\"300\"\n",
       "            src=\"https://www.youtube.com/embed/UGwiV4xps2w\"\n",
       "            frameborder=\"0\"\n",
       "            allowfullscreen\n",
       "        ></iframe>\n",
       "        "
      ],
      "text/plain": [
       "<IPython.lib.display.YouTubeVideo at 0x1cb17372d30>"
      ]
     },
     "execution_count": 17,
     "metadata": {},
     "output_type": "execute_result"
    }
   ],
   "source": [
    "YouTubeVideo('UGwiV4xps2w')"
   ]
  }
 ],
 "metadata": {
  "kernelspec": {
   "display_name": "Python 3",
   "language": "python",
   "name": "python3"
  },
  "language_info": {
   "codemirror_mode": {
    "name": "ipython",
    "version": 3
   },
   "file_extension": ".py",
   "mimetype": "text/x-python",
   "name": "python",
   "nbconvert_exporter": "python",
   "pygments_lexer": "ipython3",
   "version": "3.6.4"
  }
 },
 "nbformat": 4,
 "nbformat_minor": 2
}
